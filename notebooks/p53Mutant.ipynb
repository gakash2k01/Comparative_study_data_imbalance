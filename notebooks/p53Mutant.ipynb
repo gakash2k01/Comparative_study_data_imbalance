{
 "cells": [
  {
   "cell_type": "code",
   "execution_count": 1,
   "metadata": {},
   "outputs": [],
   "source": [
    "import sys\n",
    "sys.path.append('../')"
   ]
  },
  {
   "cell_type": "code",
   "execution_count": 2,
   "metadata": {},
   "outputs": [],
   "source": [
    "import numpy as np\n",
    "import pandas as pd\n",
    "from sklearn.pipeline import Pipeline\n",
    "from sklearn.preprocessing import StandardScaler, MinMaxScaler\n",
    "from sklearn.model_selection import train_test_split, GridSearchCV\n",
    "from collections import Counter\n",
    "from sklearn.neighbors import KNeighborsClassifier\n",
    "from sklearn.preprocessing import LabelEncoder\n",
    "from utils.eval import score\n",
    "from utils.models import CentroidSMOTE\n",
    "from imblearn.over_sampling import SMOTE"
   ]
  },
  {
   "cell_type": "markdown",
   "metadata": {},
   "source": [
    "# Reading, Preprocessing and EDA"
   ]
  },
  {
   "cell_type": "code",
   "execution_count": 3,
   "metadata": {},
   "outputs": [],
   "source": [
    "train_df = pd.read_csv('../datasets/p53Mutant/p53_new_2012/Data Sets/K9.data',header = None, low_memory=False)"
   ]
  },
  {
   "cell_type": "code",
   "execution_count": 4,
   "metadata": {},
   "outputs": [
    {
     "data": {
      "text/plain": [
       "(31420, 5410)"
      ]
     },
     "execution_count": 4,
     "metadata": {},
     "output_type": "execute_result"
    }
   ],
   "source": [
    "train_df.shape"
   ]
  },
  {
   "cell_type": "code",
   "execution_count": 5,
   "metadata": {},
   "outputs": [],
   "source": [
    "train_df.drop(columns={5409}, inplace=True)"
   ]
  },
  {
   "cell_type": "code",
   "execution_count": 6,
   "metadata": {},
   "outputs": [
    {
     "name": "stdout",
     "output_type": "stream",
     "text": [
      "0 0\n"
     ]
    }
   ],
   "source": [
    "print(train_df.isnull().sum().sum(), train_df.isna().sum().sum())"
   ]
  },
  {
   "cell_type": "code",
   "execution_count": 7,
   "metadata": {},
   "outputs": [],
   "source": [
    "columns = train_df.columns"
   ]
  },
  {
   "cell_type": "code",
   "execution_count": 8,
   "metadata": {},
   "outputs": [
    {
     "data": {
      "text/plain": [
       "5408"
      ]
     },
     "execution_count": 8,
     "metadata": {},
     "output_type": "execute_result"
    }
   ],
   "source": [
    "columns[-1]"
   ]
  },
  {
   "cell_type": "code",
   "execution_count": 9,
   "metadata": {},
   "outputs": [
    {
     "name": "stdout",
     "output_type": "stream",
     "text": [
      "31420\n"
     ]
    }
   ],
   "source": [
    "targets = train_df[5408]\n",
    "print(len(targets))"
   ]
  },
  {
   "cell_type": "code",
   "execution_count": 10,
   "metadata": {},
   "outputs": [],
   "source": [
    "for col in train_df.columns:\n",
    "    if(len(train_df[col].unique()) == 1):\n",
    "        print(len(train_df[col].unique()))"
   ]
  },
  {
   "cell_type": "code",
   "execution_count": 11,
   "metadata": {},
   "outputs": [
    {
     "name": "stdout",
     "output_type": "stream",
     "text": [
      "0.0       31159\n",
      "5408.0      137\n",
      "4826.0      124\n",
      "Name: count, dtype: int64\n"
     ]
    }
   ],
   "source": [
    "missing_in_row = []\n",
    "delete_row = []\n",
    "for row in range(len(train_df)):\n",
    "    temp = (train_df.loc[row] == '?').sum()\n",
    "    missing_in_row.append(temp)\n",
    "    if(temp>100):\n",
    "        delete_row.append(row)\n",
    "missing_in_row = pd.Series(missing_in_row, dtype = float)\n",
    "print(missing_in_row.value_counts())"
   ]
  },
  {
   "cell_type": "code",
   "execution_count": 12,
   "metadata": {},
   "outputs": [
    {
     "name": "stdout",
     "output_type": "stream",
     "text": [
      "261.0    4826\n",
      "137.0     582\n",
      "0.0         1\n",
      "Name: count, dtype: int64\n"
     ]
    }
   ],
   "source": [
    "missing_in_column = []\n",
    "delete_column = []\n",
    "for col in train_df.columns:\n",
    "    temp = (train_df[col] == '?').sum()\n",
    "    missing_in_column.append(temp)\n",
    "    if(temp > 100):\n",
    "        delete_column.append(col)\n",
    "missing_in_column = pd.Series(missing_in_column, dtype = float)\n",
    "print(missing_in_column.value_counts())    "
   ]
  },
  {
   "cell_type": "code",
   "execution_count": 13,
   "metadata": {},
   "outputs": [],
   "source": [
    "train_df.drop(delete_row, axis=0, inplace=True)"
   ]
  },
  {
   "cell_type": "code",
   "execution_count": 14,
   "metadata": {},
   "outputs": [
    {
     "name": "stdout",
     "output_type": "stream",
     "text": [
      "0.0    5409\n",
      "Name: count, dtype: int64\n"
     ]
    }
   ],
   "source": [
    "missing_in_column = []\n",
    "for col in train_df.columns:\n",
    "    missing_in_column.append((train_df[col] == '?').sum())\n",
    "missing_in_column = pd.Series(missing_in_column, dtype = float)\n",
    "print(missing_in_column.value_counts())    "
   ]
  },
  {
   "cell_type": "code",
   "execution_count": 15,
   "metadata": {},
   "outputs": [
    {
     "name": "stdout",
     "output_type": "stream",
     "text": [
      "500     14\n",
      "534     12\n",
      "617     11\n",
      "546     11\n",
      "526     10\n",
      "        ..\n",
      "1917     1\n",
      "135      1\n",
      "171      1\n",
      "1988     1\n",
      "2        1\n",
      "Name: count, Length: 2893, dtype: int64\n"
     ]
    }
   ],
   "source": [
    "unique_val= []\n",
    "for col in train_df.columns:\n",
    "    unique_val.append(len(train_df[col].unique()))\n",
    "print(pd.Series(unique_val).value_counts())"
   ]
  },
  {
   "cell_type": "code",
   "execution_count": 16,
   "metadata": {},
   "outputs": [
    {
     "data": {
      "text/html": [
       "<div>\n",
       "<style scoped>\n",
       "    .dataframe tbody tr th:only-of-type {\n",
       "        vertical-align: middle;\n",
       "    }\n",
       "\n",
       "    .dataframe tbody tr th {\n",
       "        vertical-align: top;\n",
       "    }\n",
       "\n",
       "    .dataframe thead th {\n",
       "        text-align: right;\n",
       "    }\n",
       "</style>\n",
       "<table border=\"1\" class=\"dataframe\">\n",
       "  <thead>\n",
       "    <tr style=\"text-align: right;\">\n",
       "      <th></th>\n",
       "      <th>0</th>\n",
       "      <th>1</th>\n",
       "      <th>2</th>\n",
       "      <th>3</th>\n",
       "      <th>4</th>\n",
       "      <th>5</th>\n",
       "      <th>6</th>\n",
       "      <th>7</th>\n",
       "      <th>8</th>\n",
       "      <th>9</th>\n",
       "      <th>...</th>\n",
       "      <th>5399</th>\n",
       "      <th>5400</th>\n",
       "      <th>5401</th>\n",
       "      <th>5402</th>\n",
       "      <th>5403</th>\n",
       "      <th>5404</th>\n",
       "      <th>5405</th>\n",
       "      <th>5406</th>\n",
       "      <th>5407</th>\n",
       "      <th>5408</th>\n",
       "    </tr>\n",
       "  </thead>\n",
       "  <tbody>\n",
       "    <tr>\n",
       "      <th>0</th>\n",
       "      <td>-0.161</td>\n",
       "      <td>-0.014</td>\n",
       "      <td>0.002</td>\n",
       "      <td>-0.036</td>\n",
       "      <td>-0.033</td>\n",
       "      <td>-0.093</td>\n",
       "      <td>0.025</td>\n",
       "      <td>0.005</td>\n",
       "      <td>0.000</td>\n",
       "      <td>-0.015</td>\n",
       "      <td>...</td>\n",
       "      <td>0.006</td>\n",
       "      <td>0.013</td>\n",
       "      <td>0.021</td>\n",
       "      <td>0.02</td>\n",
       "      <td>0.016</td>\n",
       "      <td>-0.011</td>\n",
       "      <td>0.003</td>\n",
       "      <td>0.01</td>\n",
       "      <td>-0.007</td>\n",
       "      <td>inactive</td>\n",
       "    </tr>\n",
       "    <tr>\n",
       "      <th>1</th>\n",
       "      <td>-0.158</td>\n",
       "      <td>-0.002</td>\n",
       "      <td>-0.012</td>\n",
       "      <td>-0.025</td>\n",
       "      <td>-0.012</td>\n",
       "      <td>-0.106</td>\n",
       "      <td>0.013</td>\n",
       "      <td>0.005</td>\n",
       "      <td>0.000</td>\n",
       "      <td>-0.002</td>\n",
       "      <td>...</td>\n",
       "      <td>0.002</td>\n",
       "      <td>-0.008</td>\n",
       "      <td>0.007</td>\n",
       "      <td>0.015</td>\n",
       "      <td>-0.008</td>\n",
       "      <td>-0.011</td>\n",
       "      <td>-0.004</td>\n",
       "      <td>0.013</td>\n",
       "      <td>0.005</td>\n",
       "      <td>inactive</td>\n",
       "    </tr>\n",
       "    <tr>\n",
       "      <th>3</th>\n",
       "      <td>-0.169</td>\n",
       "      <td>-0.025</td>\n",
       "      <td>-0.010</td>\n",
       "      <td>-0.041</td>\n",
       "      <td>-0.045</td>\n",
       "      <td>-0.069</td>\n",
       "      <td>0.038</td>\n",
       "      <td>0.014</td>\n",
       "      <td>0.008</td>\n",
       "      <td>-0.014</td>\n",
       "      <td>...</td>\n",
       "      <td>0.019</td>\n",
       "      <td>0.01</td>\n",
       "      <td>0.025</td>\n",
       "      <td>0.025</td>\n",
       "      <td>0.021</td>\n",
       "      <td>-0.012</td>\n",
       "      <td>0.006</td>\n",
       "      <td>0.016</td>\n",
       "      <td>-0.018</td>\n",
       "      <td>inactive</td>\n",
       "    </tr>\n",
       "    <tr>\n",
       "      <th>4</th>\n",
       "      <td>-0.183</td>\n",
       "      <td>-0.051</td>\n",
       "      <td>-0.023</td>\n",
       "      <td>-0.077</td>\n",
       "      <td>-0.092</td>\n",
       "      <td>-0.015</td>\n",
       "      <td>0.071</td>\n",
       "      <td>0.027</td>\n",
       "      <td>0.020</td>\n",
       "      <td>-0.019</td>\n",
       "      <td>...</td>\n",
       "      <td>0.051</td>\n",
       "      <td>0.012</td>\n",
       "      <td>0.05</td>\n",
       "      <td>0.038</td>\n",
       "      <td>0.051</td>\n",
       "      <td>-0.015</td>\n",
       "      <td>0.017</td>\n",
       "      <td>0.027</td>\n",
       "      <td>-0.049</td>\n",
       "      <td>inactive</td>\n",
       "    </tr>\n",
       "    <tr>\n",
       "      <th>5</th>\n",
       "      <td>-0.154</td>\n",
       "      <td>0.005</td>\n",
       "      <td>-0.011</td>\n",
       "      <td>-0.013</td>\n",
       "      <td>-0.002</td>\n",
       "      <td>-0.115</td>\n",
       "      <td>0.005</td>\n",
       "      <td>0.002</td>\n",
       "      <td>-0.003</td>\n",
       "      <td>0.002</td>\n",
       "      <td>...</td>\n",
       "      <td>-0.011</td>\n",
       "      <td>0.012</td>\n",
       "      <td>0.009</td>\n",
       "      <td>0.003</td>\n",
       "      <td>-0.001</td>\n",
       "      <td>0.002</td>\n",
       "      <td>-0.006</td>\n",
       "      <td>0.009</td>\n",
       "      <td>0.013</td>\n",
       "      <td>inactive</td>\n",
       "    </tr>\n",
       "  </tbody>\n",
       "</table>\n",
       "<p>5 rows × 5409 columns</p>\n",
       "</div>"
      ],
      "text/plain": [
       "     0       1       2       3       4       5      6      7       8      \n",
       "0  -0.161  -0.014   0.002  -0.036  -0.033  -0.093  0.025  0.005   0.000  \\\n",
       "1  -0.158  -0.002  -0.012  -0.025  -0.012  -0.106  0.013  0.005   0.000   \n",
       "3  -0.169  -0.025  -0.010  -0.041  -0.045  -0.069  0.038  0.014   0.008   \n",
       "4  -0.183  -0.051  -0.023  -0.077  -0.092  -0.015  0.071  0.027   0.020   \n",
       "5  -0.154   0.005  -0.011  -0.013  -0.002  -0.115  0.005  0.002  -0.003   \n",
       "\n",
       "     9     ...    5399    5400   5401   5402    5403    5404    5405   5406   \n",
       "0  -0.015  ...   0.006   0.013  0.021   0.02   0.016  -0.011   0.003   0.01  \\\n",
       "1  -0.002  ...   0.002  -0.008  0.007  0.015  -0.008  -0.011  -0.004  0.013   \n",
       "3  -0.014  ...   0.019    0.01  0.025  0.025   0.021  -0.012   0.006  0.016   \n",
       "4  -0.019  ...   0.051   0.012   0.05  0.038   0.051  -0.015   0.017  0.027   \n",
       "5   0.002  ...  -0.011   0.012  0.009  0.003  -0.001   0.002  -0.006  0.009   \n",
       "\n",
       "     5407      5408  \n",
       "0  -0.007  inactive  \n",
       "1   0.005  inactive  \n",
       "3  -0.018  inactive  \n",
       "4  -0.049  inactive  \n",
       "5   0.013  inactive  \n",
       "\n",
       "[5 rows x 5409 columns]"
      ]
     },
     "execution_count": 16,
     "metadata": {},
     "output_type": "execute_result"
    }
   ],
   "source": [
    "train_df.head()"
   ]
  },
  {
   "cell_type": "code",
   "execution_count": 17,
   "metadata": {},
   "outputs": [
    {
     "data": {
      "text/html": [
       "<div>\n",
       "<style scoped>\n",
       "    .dataframe tbody tr th:only-of-type {\n",
       "        vertical-align: middle;\n",
       "    }\n",
       "\n",
       "    .dataframe tbody tr th {\n",
       "        vertical-align: top;\n",
       "    }\n",
       "\n",
       "    .dataframe thead th {\n",
       "        text-align: right;\n",
       "    }\n",
       "</style>\n",
       "<table border=\"1\" class=\"dataframe\">\n",
       "  <thead>\n",
       "    <tr style=\"text-align: right;\">\n",
       "      <th></th>\n",
       "      <th>index</th>\n",
       "      <th>0</th>\n",
       "      <th>1</th>\n",
       "      <th>2</th>\n",
       "      <th>3</th>\n",
       "      <th>4</th>\n",
       "      <th>5</th>\n",
       "      <th>6</th>\n",
       "      <th>7</th>\n",
       "      <th>8</th>\n",
       "      <th>...</th>\n",
       "      <th>5399</th>\n",
       "      <th>5400</th>\n",
       "      <th>5401</th>\n",
       "      <th>5402</th>\n",
       "      <th>5403</th>\n",
       "      <th>5404</th>\n",
       "      <th>5405</th>\n",
       "      <th>5406</th>\n",
       "      <th>5407</th>\n",
       "      <th>5408</th>\n",
       "    </tr>\n",
       "  </thead>\n",
       "  <tbody>\n",
       "    <tr>\n",
       "      <th>0</th>\n",
       "      <td>0</td>\n",
       "      <td>-0.161</td>\n",
       "      <td>-0.014</td>\n",
       "      <td>0.002</td>\n",
       "      <td>-0.036</td>\n",
       "      <td>-0.033</td>\n",
       "      <td>-0.093</td>\n",
       "      <td>0.025</td>\n",
       "      <td>0.005</td>\n",
       "      <td>0.000</td>\n",
       "      <td>...</td>\n",
       "      <td>0.006</td>\n",
       "      <td>0.013</td>\n",
       "      <td>0.021</td>\n",
       "      <td>0.02</td>\n",
       "      <td>0.016</td>\n",
       "      <td>-0.011</td>\n",
       "      <td>0.003</td>\n",
       "      <td>0.01</td>\n",
       "      <td>-0.007</td>\n",
       "      <td>inactive</td>\n",
       "    </tr>\n",
       "    <tr>\n",
       "      <th>1</th>\n",
       "      <td>1</td>\n",
       "      <td>-0.158</td>\n",
       "      <td>-0.002</td>\n",
       "      <td>-0.012</td>\n",
       "      <td>-0.025</td>\n",
       "      <td>-0.012</td>\n",
       "      <td>-0.106</td>\n",
       "      <td>0.013</td>\n",
       "      <td>0.005</td>\n",
       "      <td>0.000</td>\n",
       "      <td>...</td>\n",
       "      <td>0.002</td>\n",
       "      <td>-0.008</td>\n",
       "      <td>0.007</td>\n",
       "      <td>0.015</td>\n",
       "      <td>-0.008</td>\n",
       "      <td>-0.011</td>\n",
       "      <td>-0.004</td>\n",
       "      <td>0.013</td>\n",
       "      <td>0.005</td>\n",
       "      <td>inactive</td>\n",
       "    </tr>\n",
       "    <tr>\n",
       "      <th>2</th>\n",
       "      <td>3</td>\n",
       "      <td>-0.169</td>\n",
       "      <td>-0.025</td>\n",
       "      <td>-0.010</td>\n",
       "      <td>-0.041</td>\n",
       "      <td>-0.045</td>\n",
       "      <td>-0.069</td>\n",
       "      <td>0.038</td>\n",
       "      <td>0.014</td>\n",
       "      <td>0.008</td>\n",
       "      <td>...</td>\n",
       "      <td>0.019</td>\n",
       "      <td>0.01</td>\n",
       "      <td>0.025</td>\n",
       "      <td>0.025</td>\n",
       "      <td>0.021</td>\n",
       "      <td>-0.012</td>\n",
       "      <td>0.006</td>\n",
       "      <td>0.016</td>\n",
       "      <td>-0.018</td>\n",
       "      <td>inactive</td>\n",
       "    </tr>\n",
       "    <tr>\n",
       "      <th>3</th>\n",
       "      <td>4</td>\n",
       "      <td>-0.183</td>\n",
       "      <td>-0.051</td>\n",
       "      <td>-0.023</td>\n",
       "      <td>-0.077</td>\n",
       "      <td>-0.092</td>\n",
       "      <td>-0.015</td>\n",
       "      <td>0.071</td>\n",
       "      <td>0.027</td>\n",
       "      <td>0.020</td>\n",
       "      <td>...</td>\n",
       "      <td>0.051</td>\n",
       "      <td>0.012</td>\n",
       "      <td>0.05</td>\n",
       "      <td>0.038</td>\n",
       "      <td>0.051</td>\n",
       "      <td>-0.015</td>\n",
       "      <td>0.017</td>\n",
       "      <td>0.027</td>\n",
       "      <td>-0.049</td>\n",
       "      <td>inactive</td>\n",
       "    </tr>\n",
       "    <tr>\n",
       "      <th>4</th>\n",
       "      <td>5</td>\n",
       "      <td>-0.154</td>\n",
       "      <td>0.005</td>\n",
       "      <td>-0.011</td>\n",
       "      <td>-0.013</td>\n",
       "      <td>-0.002</td>\n",
       "      <td>-0.115</td>\n",
       "      <td>0.005</td>\n",
       "      <td>0.002</td>\n",
       "      <td>-0.003</td>\n",
       "      <td>...</td>\n",
       "      <td>-0.011</td>\n",
       "      <td>0.012</td>\n",
       "      <td>0.009</td>\n",
       "      <td>0.003</td>\n",
       "      <td>-0.001</td>\n",
       "      <td>0.002</td>\n",
       "      <td>-0.006</td>\n",
       "      <td>0.009</td>\n",
       "      <td>0.013</td>\n",
       "      <td>inactive</td>\n",
       "    </tr>\n",
       "    <tr>\n",
       "      <th>...</th>\n",
       "      <td>...</td>\n",
       "      <td>...</td>\n",
       "      <td>...</td>\n",
       "      <td>...</td>\n",
       "      <td>...</td>\n",
       "      <td>...</td>\n",
       "      <td>...</td>\n",
       "      <td>...</td>\n",
       "      <td>...</td>\n",
       "      <td>...</td>\n",
       "      <td>...</td>\n",
       "      <td>...</td>\n",
       "      <td>...</td>\n",
       "      <td>...</td>\n",
       "      <td>...</td>\n",
       "      <td>...</td>\n",
       "      <td>...</td>\n",
       "      <td>...</td>\n",
       "      <td>...</td>\n",
       "      <td>...</td>\n",
       "      <td>...</td>\n",
       "    </tr>\n",
       "    <tr>\n",
       "      <th>31154</th>\n",
       "      <td>31415</td>\n",
       "      <td>-0.005</td>\n",
       "      <td>-0.023</td>\n",
       "      <td>0.018</td>\n",
       "      <td>-0.016</td>\n",
       "      <td>-0.045</td>\n",
       "      <td>0.053</td>\n",
       "      <td>0.021</td>\n",
       "      <td>0.003</td>\n",
       "      <td>0.004</td>\n",
       "      <td>...</td>\n",
       "      <td>0.006</td>\n",
       "      <td>0.032</td>\n",
       "      <td>-0.059</td>\n",
       "      <td>0.03</td>\n",
       "      <td>0.017</td>\n",
       "      <td>0.005</td>\n",
       "      <td>0.142</td>\n",
       "      <td>0.075</td>\n",
       "      <td>-0.03</td>\n",
       "      <td>inactive</td>\n",
       "    </tr>\n",
       "    <tr>\n",
       "      <th>31155</th>\n",
       "      <td>31416</td>\n",
       "      <td>0.001</td>\n",
       "      <td>0.008</td>\n",
       "      <td>-0.001</td>\n",
       "      <td>0.012</td>\n",
       "      <td>0.020</td>\n",
       "      <td>-0.020</td>\n",
       "      <td>-0.008</td>\n",
       "      <td>-0.004</td>\n",
       "      <td>-0.003</td>\n",
       "      <td>...</td>\n",
       "      <td>-0.01</td>\n",
       "      <td>0.002</td>\n",
       "      <td>-0.077</td>\n",
       "      <td>0.031</td>\n",
       "      <td>-0.042</td>\n",
       "      <td>0.034</td>\n",
       "      <td>0.188</td>\n",
       "      <td>0.077</td>\n",
       "      <td>0.021</td>\n",
       "      <td>inactive</td>\n",
       "    </tr>\n",
       "    <tr>\n",
       "      <th>31156</th>\n",
       "      <td>31417</td>\n",
       "      <td>0.002</td>\n",
       "      <td>0.013</td>\n",
       "      <td>-0.002</td>\n",
       "      <td>0.016</td>\n",
       "      <td>0.031</td>\n",
       "      <td>-0.026</td>\n",
       "      <td>-0.011</td>\n",
       "      <td>-0.005</td>\n",
       "      <td>-0.004</td>\n",
       "      <td>...</td>\n",
       "      <td>-0.012</td>\n",
       "      <td>-0.013</td>\n",
       "      <td>-0.065</td>\n",
       "      <td>0.002</td>\n",
       "      <td>-0.039</td>\n",
       "      <td>0.05</td>\n",
       "      <td>0.163</td>\n",
       "      <td>0.075</td>\n",
       "      <td>0.031</td>\n",
       "      <td>inactive</td>\n",
       "    </tr>\n",
       "    <tr>\n",
       "      <th>31157</th>\n",
       "      <td>31418</td>\n",
       "      <td>-0.002</td>\n",
       "      <td>-0.012</td>\n",
       "      <td>0.002</td>\n",
       "      <td>-0.018</td>\n",
       "      <td>-0.027</td>\n",
       "      <td>0.036</td>\n",
       "      <td>0.013</td>\n",
       "      <td>0.005</td>\n",
       "      <td>0.006</td>\n",
       "      <td>...</td>\n",
       "      <td>0.015</td>\n",
       "      <td>0.011</td>\n",
       "      <td>-0.041</td>\n",
       "      <td>0.015</td>\n",
       "      <td>0.005</td>\n",
       "      <td>0.055</td>\n",
       "      <td>0.2</td>\n",
       "      <td>0.103</td>\n",
       "      <td>0.018</td>\n",
       "      <td>inactive</td>\n",
       "    </tr>\n",
       "    <tr>\n",
       "      <th>31158</th>\n",
       "      <td>31419</td>\n",
       "      <td>-0.005</td>\n",
       "      <td>-0.027</td>\n",
       "      <td>0.023</td>\n",
       "      <td>-0.019</td>\n",
       "      <td>-0.050</td>\n",
       "      <td>0.051</td>\n",
       "      <td>0.023</td>\n",
       "      <td>0.003</td>\n",
       "      <td>0.006</td>\n",
       "      <td>...</td>\n",
       "      <td>0.012</td>\n",
       "      <td>0.044</td>\n",
       "      <td>-0.012</td>\n",
       "      <td>0.007</td>\n",
       "      <td>0.047</td>\n",
       "      <td>0.053</td>\n",
       "      <td>0.193</td>\n",
       "      <td>0.044</td>\n",
       "      <td>-0.029</td>\n",
       "      <td>inactive</td>\n",
       "    </tr>\n",
       "  </tbody>\n",
       "</table>\n",
       "<p>31159 rows × 5410 columns</p>\n",
       "</div>"
      ],
      "text/plain": [
       "       index       0       1       2       3       4       5       6       7   \n",
       "0          0  -0.161  -0.014   0.002  -0.036  -0.033  -0.093   0.025   0.005  \\\n",
       "1          1  -0.158  -0.002  -0.012  -0.025  -0.012  -0.106   0.013   0.005   \n",
       "2          3  -0.169  -0.025  -0.010  -0.041  -0.045  -0.069   0.038   0.014   \n",
       "3          4  -0.183  -0.051  -0.023  -0.077  -0.092  -0.015   0.071   0.027   \n",
       "4          5  -0.154   0.005  -0.011  -0.013  -0.002  -0.115   0.005   0.002   \n",
       "...      ...     ...     ...     ...     ...     ...     ...     ...     ...   \n",
       "31154  31415  -0.005  -0.023   0.018  -0.016  -0.045   0.053   0.021   0.003   \n",
       "31155  31416   0.001   0.008  -0.001   0.012   0.020  -0.020  -0.008  -0.004   \n",
       "31156  31417   0.002   0.013  -0.002   0.016   0.031  -0.026  -0.011  -0.005   \n",
       "31157  31418  -0.002  -0.012   0.002  -0.018  -0.027   0.036   0.013   0.005   \n",
       "31158  31419  -0.005  -0.027   0.023  -0.019  -0.050   0.051   0.023   0.003   \n",
       "\n",
       "            8  ...    5399    5400    5401   5402    5403    5404    5405   \n",
       "0       0.000  ...   0.006   0.013   0.021   0.02   0.016  -0.011   0.003  \\\n",
       "1       0.000  ...   0.002  -0.008   0.007  0.015  -0.008  -0.011  -0.004   \n",
       "2       0.008  ...   0.019    0.01   0.025  0.025   0.021  -0.012   0.006   \n",
       "3       0.020  ...   0.051   0.012    0.05  0.038   0.051  -0.015   0.017   \n",
       "4      -0.003  ...  -0.011   0.012   0.009  0.003  -0.001   0.002  -0.006   \n",
       "...       ...  ...     ...     ...     ...    ...     ...     ...     ...   \n",
       "31154   0.004  ...   0.006   0.032  -0.059   0.03   0.017   0.005   0.142   \n",
       "31155  -0.003  ...   -0.01   0.002  -0.077  0.031  -0.042   0.034   0.188   \n",
       "31156  -0.004  ...  -0.012  -0.013  -0.065  0.002  -0.039    0.05   0.163   \n",
       "31157   0.006  ...   0.015   0.011  -0.041  0.015   0.005   0.055     0.2   \n",
       "31158   0.006  ...   0.012   0.044  -0.012  0.007   0.047   0.053   0.193   \n",
       "\n",
       "        5406    5407      5408  \n",
       "0       0.01  -0.007  inactive  \n",
       "1      0.013   0.005  inactive  \n",
       "2      0.016  -0.018  inactive  \n",
       "3      0.027  -0.049  inactive  \n",
       "4      0.009   0.013  inactive  \n",
       "...      ...     ...       ...  \n",
       "31154  0.075   -0.03  inactive  \n",
       "31155  0.077   0.021  inactive  \n",
       "31156  0.075   0.031  inactive  \n",
       "31157  0.103   0.018  inactive  \n",
       "31158  0.044  -0.029  inactive  \n",
       "\n",
       "[31159 rows x 5410 columns]"
      ]
     },
     "execution_count": 17,
     "metadata": {},
     "output_type": "execute_result"
    }
   ],
   "source": [
    "train_df.reset_index()\n",
    "# train_df.drop(columns = ['index'])"
   ]
  },
  {
   "cell_type": "code",
   "execution_count": 18,
   "metadata": {},
   "outputs": [
    {
     "data": {
      "text/plain": [
       "(31159, 5409)"
      ]
     },
     "execution_count": 18,
     "metadata": {},
     "output_type": "execute_result"
    }
   ],
   "source": [
    "train_df.shape"
   ]
  },
  {
   "cell_type": "code",
   "execution_count": 19,
   "metadata": {},
   "outputs": [],
   "source": [
    "train_df, test_df = train_test_split(train_df, train_size = 0.9, random_state = 42) \n",
    "y_train = train_df[5408]\n",
    "y_test = test_df[5408]\n",
    "X_train = train_df.drop(columns = [5408], axis = 0)\n",
    "X_test = test_df.drop(columns = [5408], axis = 0)\n",
    "X_train = X_train.to_numpy()\n",
    "X_test = X_test.to_numpy()\n",
    "y_train = y_train.to_numpy()\n",
    "y_test = y_test.to_numpy()"
   ]
  },
  {
   "cell_type": "code",
   "execution_count": 20,
   "metadata": {},
   "outputs": [],
   "source": [
    "from sklearn import preprocessing\n",
    "le = preprocessing.LabelEncoder()\n",
    "y_train = le.fit_transform(y_train)\n",
    "y_test = le.transform(y_test)"
   ]
  },
  {
   "cell_type": "code",
   "execution_count": 21,
   "metadata": {},
   "outputs": [],
   "source": [
    "X_train = X_train.astype('float64')\n",
    "y_train = y_train.astype('float64')\n",
    "X_test = X_test.astype('float64')\n",
    "y_test = y_test.astype('float64')"
   ]
  },
  {
   "cell_type": "code",
   "execution_count": 22,
   "metadata": {},
   "outputs": [],
   "source": [
    "pipeline = Pipeline([\n",
    "    ('classifier', KNeighborsClassifier())\n",
    "])\n",
    "\n",
    "parameters = {\n",
    "    'classifier__n_neighbors' : [3, 5, 7, 9, 11],\n",
    "}"
   ]
  },
  {
   "cell_type": "code",
   "execution_count": 23,
   "metadata": {},
   "outputs": [
    {
     "name": "stdout",
     "output_type": "stream",
     "text": [
      "Fitting 5 folds for each of 5 candidates, totalling 25 fits\n",
      "Accuracy: 0.996470\n",
      "Error Rate: 0.003530166880616137\n",
      "Precision: 0.998234\n",
      "Recall: 0.576923\n",
      "F1-score: 0.632449\n",
      "Selectivity: 0.576923\n",
      "Balanced Accuracy: 0.576923\n",
      "Geometric Mean: 0.576923\n"
     ]
    },
    {
     "data": {
      "image/png": "[encoded data removed]",
      "text/plain": [
       "<Figure size 300x200 with 2 Axes>"
      ]
     },
     "metadata": {},
     "output_type": "display_data"
    }
   ],
   "source": [
    "clf = GridSearchCV(pipeline, param_grid = parameters, cv = 5, verbose=True, n_jobs=-1)\n",
    "best_clf = clf.fit(X_train, y_train)\n",
    "score(X_test, y_test, best_clf)"
   ]
  },
  {
   "cell_type": "code",
   "execution_count": 24,
   "metadata": {},
   "outputs": [
    {
     "name": "stdout",
     "output_type": "stream",
     "text": [
      "Fitting 5 folds for each of 5 candidates, totalling 25 fits\n",
      "Accuracy: 0.990051\n",
      "Error Rate: 0.009948652118100143\n",
      "Precision: 0.624351\n",
      "Recall: 0.841803\n",
      "F1-score: 0.681167\n",
      "Selectivity: 0.841803\n",
      "Balanced Accuracy: 0.841803\n",
      "Geometric Mean: 0.841803\n"
     ]
    },
    {
     "data": {
      "image/png": "[encoded data removed]",
      "text/plain": [
       "<Figure size 300x200 with 2 Axes>"
      ]
     },
     "metadata": {},
     "output_type": "display_data"
    },
    {
     "name": "stdout",
     "output_type": "stream",
     "text": [
      "Fitting 5 folds for each of 5 candidates, totalling 25 fits\n",
      "Accuracy: 0.989730\n",
      "Error Rate: 0.010269576379974277\n",
      "Precision: 0.620972\n",
      "Recall: 0.841642\n",
      "F1-score: 0.677412\n",
      "Selectivity: 0.841642\n",
      "Balanced Accuracy: 0.841642\n",
      "Geometric Mean: 0.841642\n"
     ]
    },
    {
     "data": {
      "image/png": "[encoded data removed]",
      "text/plain": [
       "<Figure size 300x200 with 2 Axes>"
      ]
     },
     "metadata": {},
     "output_type": "display_data"
    },
    {
     "name": "stdout",
     "output_type": "stream",
     "text": [
      "Fitting 5 folds for each of 5 candidates, totalling 25 fits\n",
      "Accuracy: 0.989409\n",
      "Error Rate: 0.010590500641848521\n",
      "Precision: 0.624512\n",
      "Recall: 0.879781\n",
      "F1-score: 0.686009\n",
      "Selectivity: 0.879781\n",
      "Balanced Accuracy: 0.879781\n",
      "Geometric Mean: 0.879781\n"
     ]
    },
    {
     "data": {
      "image/png": "[encoded data removed]",
      "text/plain": [
       "<Figure size 300x200 with 2 Axes>"
      ]
     },
     "metadata": {},
     "output_type": "display_data"
    },
    {
     "name": "stdout",
     "output_type": "stream",
     "text": [
      "Fitting 5 folds for each of 5 candidates, totalling 25 fits\n",
      "Accuracy: 0.989089\n",
      "Error Rate: 0.010911424903722766\n",
      "Precision: 0.614735\n",
      "Recall: 0.841320\n",
      "F1-score: 0.670326\n",
      "Selectivity: 0.841320\n",
      "Balanced Accuracy: 0.841320\n",
      "Geometric Mean: 0.841320\n"
     ]
    },
    {
     "data": {
      "image/png": "[encoded data removed]",
      "text/plain": [
       "<Figure size 300x200 with 2 Axes>"
      ]
     },
     "metadata": {},
     "output_type": "display_data"
    },
    {
     "name": "stdout",
     "output_type": "stream",
     "text": [
      "Fitting 5 folds for each of 5 candidates, totalling 25 fits\n",
      "Accuracy: 0.988447\n",
      "Error Rate: 0.011553273427471145\n",
      "Precision: 0.615791\n",
      "Recall: 0.879298\n",
      "F1-score: 0.675657\n",
      "Selectivity: 0.879298\n",
      "Balanced Accuracy: 0.879298\n",
      "Geometric Mean: 0.879298\n"
     ]
    },
    {
     "data": {
      "image/png": "[encoded data removed]",
      "text/plain": [
       "<Figure size 300x200 with 2 Axes>"
      ]
     },
     "metadata": {},
     "output_type": "display_data"
    }
   ],
   "source": [
    "sm_list = []\n",
    "for i in [3, 5, 7, 9, 11]:\n",
    "    sm_list.append(SMOTE(random_state=42, k_neighbors=i))\n",
    "for sm in sm_list:\n",
    "    X_new, y_new = sm.fit_resample(X_train, y_train)\n",
    "    pipeline = Pipeline([\n",
    "        ('classifier', KNeighborsClassifier())\n",
    "    ])\n",
    "\n",
    "    parameters = {\n",
    "        'classifier__n_neighbors' : [3, 5, 7, 9, 11],\n",
    "    }\n",
    "\n",
    "    clf = GridSearchCV(pipeline, param_grid = parameters, cv = 5, verbose=True, n_jobs=-1)\n",
    "    best_clf = clf.fit(X_new, y_new)\n",
    "    score(X_test, y_test, best_clf)"
   ]
  },
  {
   "cell_type": "code",
   "execution_count": 25,
   "metadata": {},
   "outputs": [
    {
     "name": "stdout",
     "output_type": "stream",
     "text": [
      "Fitting 5 folds for each of 5 candidates, totalling 25 fits\n",
      "Accuracy: 0.991977\n",
      "Error Rate: 0.008023106546854897\n",
      "Precision: 0.633645\n",
      "Recall: 0.766169\n",
      "F1-score: 0.677469\n",
      "Selectivity: 0.766169\n",
      "Balanced Accuracy: 0.766169\n",
      "Geometric Mean: 0.766169\n"
     ]
    },
    {
     "data": {
      "image/png": "[encoded data removed]",
      "text/plain": [
       "<Figure size 300x200 with 2 Axes>"
      ]
     },
     "metadata": {},
     "output_type": "display_data"
    },
    {
     "name": "stdout",
     "output_type": "stream",
     "text": [
      "Fitting 5 folds for each of 5 candidates, totalling 25 fits\n",
      "Accuracy: 0.992298\n",
      "Error Rate: 0.007702182284980763\n",
      "Precision: 0.647339\n",
      "Recall: 0.804631\n",
      "F1-score: 0.698062\n",
      "Selectivity: 0.804631\n",
      "Balanced Accuracy: 0.804631\n",
      "Geometric Mean: 0.804631\n"
     ]
    },
    {
     "data": {
      "image/png": "[encoded data removed]",
      "text/plain": [
       "<Figure size 300x200 with 2 Axes>"
      ]
     },
     "metadata": {},
     "output_type": "display_data"
    },
    {
     "name": "stdout",
     "output_type": "stream",
     "text": [
      "Fitting 5 folds for each of 5 candidates, totalling 25 fits\n",
      "Accuracy: 0.992298\n",
      "Error Rate: 0.007702182284980763\n",
      "Precision: 0.647339\n",
      "Recall: 0.804631\n",
      "F1-score: 0.698062\n",
      "Selectivity: 0.804631\n",
      "Balanced Accuracy: 0.804631\n",
      "Geometric Mean: 0.804631\n"
     ]
    },
    {
     "data": {
      "image/png": "[encoded data removed]",
      "text/plain": [
       "<Figure size 300x200 with 2 Axes>"
      ]
     },
     "metadata": {},
     "output_type": "display_data"
    },
    {
     "name": "stdout",
     "output_type": "stream",
     "text": [
      "Fitting 5 folds for each of 5 candidates, totalling 25 fits\n",
      "Accuracy: 0.993261\n",
      "Error Rate: 0.00673940949935814\n",
      "Precision: 0.658121\n",
      "Recall: 0.766814\n",
      "F1-score: 0.698306\n",
      "Selectivity: 0.766814\n",
      "Balanced Accuracy: 0.766814\n",
      "Geometric Mean: 0.766814\n"
     ]
    },
    {
     "data": {
      "image/png": "[encoded data removed]",
      "text/plain": [
       "<Figure size 300x200 with 2 Axes>"
      ]
     },
     "metadata": {},
     "output_type": "display_data"
    },
    {
     "name": "stdout",
     "output_type": "stream",
     "text": [
      "Fitting 5 folds for each of 5 candidates, totalling 25 fits\n",
      "Accuracy: 0.994865\n",
      "Error Rate: 0.005134788189987138\n",
      "Precision: 0.704914\n",
      "Recall: 0.767619\n",
      "F1-score: 0.732043\n",
      "Selectivity: 0.767619\n",
      "Balanced Accuracy: 0.767619\n",
      "Geometric Mean: 0.767619\n"
     ]
    },
    {
     "data": {
      "image/png": "[encoded data removed]",
      "text/plain": [
       "<Figure size 300x200 with 2 Axes>"
      ]
     },
     "metadata": {},
     "output_type": "display_data"
    }
   ],
   "source": [
    "csm_list = []\n",
    "for (i,j) in [(5,3), (7,3), (9,3), (7,5), (9,7)]:\n",
    "    csm_list.append(CentroidSMOTE(k_neighbors=i, m_vertices=j))\n",
    "\n",
    "for csm in csm_list:\n",
    "    X_new, y_new = csm.fit_resample(X_train, y_train)\n",
    "    pipeline = Pipeline([\n",
    "        ('classifier', KNeighborsClassifier())\n",
    "    ])\n",
    "\n",
    "    parameters = {\n",
    "        'classifier__n_neighbors' : [3, 5, 7, 9, 11],\n",
    "    }\n",
    "\n",
    "    clf = GridSearchCV(pipeline, param_grid = parameters, cv = 5, verbose=True, n_jobs=-1)\n",
    "    best_clf = clf.fit(X_new, y_new)\n",
    "    score(X_test, y_test, best_clf)"
   ]
  },
  {
   "cell_type": "code",
   "execution_count": null,
   "metadata": {},
   "outputs": [],
   "source": []
  }
 ],
 "metadata": {
  "kernelspec": {
   "display_name": "Python 3.8.13 ('knn_class_imbalance')",
   "language": "python",
   "name": "python3"
  },
  "language_info": {
   "codemirror_mode": {
    "name": "ipython",
    "version": 3
   },
   "file_extension": ".py",
   "mimetype": "text/x-python",
   "name": "python",
   "nbconvert_exporter": "python",
   "pygments_lexer": "ipython3",
   "version": "3.9.16"
  },
  "orig_nbformat": 4,
  "vscode": {
   "interpreter": {
    "hash": "e10a5bf6ff31196511d99c2fe3cd61fc8ae4ee051a4279e6ba5901f2d7389328"
   }
  }
 },
 "nbformat": 4,
 "nbformat_minor": 2
}
